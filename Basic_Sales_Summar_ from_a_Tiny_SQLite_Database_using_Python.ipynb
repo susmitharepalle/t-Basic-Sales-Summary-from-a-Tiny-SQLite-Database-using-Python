{
 "cells": [
  {
   "cell_type": "code",
   "execution_count": 1,
   "id": "1232cdd0-c6a4-481d-97e4-1687a1816c77",
   "metadata": {},
   "outputs": [
    {
     "name": "stdout",
     "output_type": "stream",
     "text": [
      "Sales Summary by Product:\n",
      "       product  total_qty   revenue\n",
      "0  Headphones         17   35400.0\n",
      "1      Laptop          5  254000.0\n",
      "2      Mobile          8  117000.0\n"
     ]
    },
    {
     "data": {
      "image/png": "[encoded data removed]",
      "text/plain": [
       "<Figure size 600x400 with 1 Axes>"
      ]
     },
     "metadata": {},
     "output_type": "display_data"
    },
    {
     "name": "stdout",
     "output_type": "stream",
     "text": [
      "\n",
      "Overall Totals:\n",
      "    total_units  total_revenue\n",
      "0           30       406400.0\n"
     ]
    }
   ],
   "source": [
    "# Basic Sales Summary from SQLite in Python (Notebook version)\n",
    "\n",
    "import sqlite3\n",
    "import pandas as pd\n",
    "import matplotlib.pyplot as plt\n",
    "\n",
    "# 1) Connect or create the database file in the current folder\n",
    "conn = sqlite3.connect(\"sales_data.db\")\n",
    "cur = conn.cursor()\n",
    "\n",
    "# 2) Create table (if not exists)\n",
    "cur.execute(\"\"\"\n",
    "CREATE TABLE IF NOT EXISTS sales (\n",
    "    id INTEGER PRIMARY KEY AUTOINCREMENT,\n",
    "    product TEXT,\n",
    "    quantity INTEGER,\n",
    "    price REAL\n",
    ")\n",
    "\"\"\")\n",
    "\n",
    "# 3) Reset data so repeated runs don't double-insert\n",
    "cur.execute(\"DELETE FROM sales\")\n",
    "\n",
    "# 4) Insert sample rows\n",
    "rows = [\n",
    "    (\"Laptop\", 3, 50000),\n",
    "    (\"Laptop\", 2, 52000),\n",
    "    (\"Mobile\", 5, 15000),\n",
    "    (\"Mobile\", 3, 14000),\n",
    "    (\"Headphones\", 10, 2000),\n",
    "    (\"Headphones\", 7, 2200)\n",
    "]\n",
    "cur.executemany(\"INSERT INTO sales (product, quantity, price) VALUES (?, ?, ?)\", rows)\n",
    "conn.commit()\n",
    "\n",
    "# 5) Query totals by product\n",
    "query = \"\"\"\n",
    "SELECT \n",
    "    product, \n",
    "    SUM(quantity) AS total_qty, \n",
    "    SUM(quantity * price) AS revenue\n",
    "FROM sales\n",
    "GROUP BY product\n",
    "\"\"\"\n",
    "df = pd.read_sql_query(query, conn)\n",
    "\n",
    "# 6) Print the results\n",
    "print(\"Sales Summary by Product:\\n\", df)\n",
    "\n",
    "# 7) Simple bar chart (revenue by product)\n",
    "plt.figure(figsize=(6,4))         # one chart, no special colors\n",
    "plt.bar(df[\"product\"], df[\"revenue\"])\n",
    "plt.title(\"Revenue by Product\")\n",
    "plt.xlabel(\"Product\")\n",
    "plt.ylabel(\"Revenue\")\n",
    "plt.tight_layout()\n",
    "plt.savefig(\"sales_chart.png\")    # saved to your current folder\n",
    "plt.show()\n",
    "\n",
    "# 8) (Optional) One more SQL query for overall totals\n",
    "df2 = pd.read_sql_query(\"\"\"\n",
    "    SELECT SUM(quantity) AS total_units,\n",
    "           SUM(quantity * price) AS total_revenue\n",
    "    FROM sales\n",
    "\"\"\", conn)\n",
    "print(\"\\nOverall Totals:\\n\", df2)\n",
    "\n",
    "conn.close()\n"
   ]
  },
  {
   "cell_type": "code",
   "execution_count": null,
   "id": "abf61752-3d59-4666-affd-f43528625663",
   "metadata": {},
   "outputs": [],
   "source": []
  }
 ],
 "metadata": {
  "kernelspec": {
   "display_name": "Python 3 (ipykernel)",
   "language": "python",
   "name": "python3"
  },
  "language_info": {
   "codemirror_mode": {
    "name": "ipython",
    "version": 3
   },
   "file_extension": ".py",
   "mimetype": "text/x-python",
   "name": "python",
   "nbconvert_exporter": "python",
   "pygments_lexer": "ipython3",
   "version": "3.12.0"
  }
 },
 "nbformat": 4,
 "nbformat_minor": 5
}
